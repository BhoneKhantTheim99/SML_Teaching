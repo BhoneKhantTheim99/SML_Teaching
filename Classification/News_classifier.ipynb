{
 "cells": [
  {
   "cell_type": "code",
   "execution_count": null,
   "metadata": {},
   "outputs": [],
   "source": [
    "import pandas as pd\n",
    "from sklearn.feature_extraction.text import TfidfVectorizer\n",
    "from sklearn.model_selection import train_test_split\n",
    "import scipy.sparse as sp\n",
    "\n",
    "# Load your dataset\n",
    "df = pd.read_csv('..\\\\data\\\\news_data.csv',  encoding='latin-1', header=None)\n",
    "df.columns = ['class', 'news']\n",
    "label_mapping = {'positive': 1, 'negative': -1, 'neutral': 0}\n",
    "df['class'] = df['class'].map(label_mapping)\n",
    "\n",
    "vectorizer = TfidfVectorizer() #max_features=1000\n",
    "\n",
    "X = vectorizer.fit_transform(df['news'])\n",
    "y = df['class']\n",
    "\n",
    "print(X.shape)\n"
   ]
  },
  {
   "cell_type": "code",
   "execution_count": null,
   "metadata": {},
   "outputs": [],
   "source": [
    "from sklearn.model_selection import train_test_split\n",
    "X_train, X_test, y_train, y_test = train_test_split(X,y, \n",
    "                                    test_size = 0.40, \n",
    "                                    random_state=1)\n",
    "X_test.shape"
   ]
  },
  {
   "cell_type": "code",
   "execution_count": null,
   "metadata": {},
   "outputs": [],
   "source": [
    "#--------------------------------------------------\n",
    "## ----------- K-NN Classifier ------------------## \n",
    "#--------------------------------------------------\n",
    "from sklearn.preprocessing import StandardScaler\n",
    "from sklearn.pipeline import Pipeline\n",
    "from sklearn.neighbors import KNeighborsClassifier\n",
    "from sklearn.metrics import classification_report\n",
    "from sklearn.metrics import confusion_matrix\n",
    "from sklearn.metrics import roc_auc_score\n",
    "\n",
    "steps = [('scaler', StandardScaler(with_mean=False)),         \n",
    "         ('knn', KNeighborsClassifier(n_neighbors = 3))]\n",
    "\n",
    "knn_pipeline = Pipeline(steps)\n",
    "knn_pipeline.fit(X_train, y_train)\n",
    "\n",
    "ypred_test = knn_pipeline.predict(X_test)\n",
    "mat_clf = confusion_matrix(y_test, ypred_test)\n",
    "report_clf = classification_report(y_test, ypred_test)\n",
    "\n",
    "print(mat_clf)\n",
    "print(report_clf)"
   ]
  },
  {
   "cell_type": "code",
   "execution_count": null,
   "metadata": {},
   "outputs": [],
   "source": [
    "from sklearn.naive_bayes import GaussianNB\n",
    "gnb = GaussianNB()\n",
    "gnb.fit(X_train.toarray(), y_train)\n",
    "\n",
    "ypred_test = gnb.predict(X_test.toarray())\n",
    "mat_clf = confusion_matrix(y_test, ypred_test)\n",
    "report_clf = classification_report(y_test, ypred_test)\n",
    "\n",
    "print(mat_clf)\n",
    "print(report_clf)"
   ]
  },
  {
   "cell_type": "code",
   "execution_count": null,
   "metadata": {},
   "outputs": [],
   "source": []
  }
 ],
 "metadata": {
  "kernelspec": {
   "display_name": "base",
   "language": "python",
   "name": "python3"
  },
  "language_info": {
   "codemirror_mode": {
    "name": "ipython",
    "version": 3
   },
   "file_extension": ".py",
   "mimetype": "text/x-python",
   "name": "python",
   "nbconvert_exporter": "python",
   "pygments_lexer": "ipython3",
   "version": "3.9.13"
  }
 },
 "nbformat": 4,
 "nbformat_minor": 2
}
