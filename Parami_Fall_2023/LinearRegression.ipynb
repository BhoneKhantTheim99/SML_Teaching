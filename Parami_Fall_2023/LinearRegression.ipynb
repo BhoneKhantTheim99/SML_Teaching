{
 "cells": [
  {
   "cell_type": "code",
   "execution_count": null,
   "metadata": {},
   "outputs": [],
   "source": [
    "import pandas as pd\n",
    "from sklearn import datasets "
   ]
  },
  {
   "cell_type": "code",
   "execution_count": null,
   "metadata": {},
   "outputs": [],
   "source": [
    "data = datasets.load_diabetes()\n",
    "df = pd.DataFrame(data.data, columns=data.feature_names)\n",
    "\n",
    "X = data.data #input \n",
    "\n",
    "y = data.target #output\n",
    "\n",
    "df.to_csv('diabetes_data.csv', index = False)\n",
    "df.columns"
   ]
  },
  {
   "cell_type": "markdown",
   "metadata": {},
   "source": [
    "### data preprocessing : clean the data, convert the categorical (text) to numerical values\n",
    "### input to ML model must be number. (X - input, y- output) \n",
    "\n",
    "#### Step 1: split the data into training and testing set (to avoid overfit)\n",
    "\n",
    "#### Step 2: train ML model using the available training set\n",
    "\n",
    "#### Step 3: evaluate the performance for the training set, testing set \n",
    "\n",
    "#### Step 4: fine-tune parameters to balance the performance "
   ]
  },
  {
   "cell_type": "code",
   "execution_count": null,
   "metadata": {},
   "outputs": [],
   "source": [
    "from sklearn.model_selection import train_test_split\n",
    "from sklearn.preprocessing import StandardScaler, PolynomialFeatures\n",
    "from sklearn.linear_model import LinearRegression\n",
    "from sklearn.impute import SimpleImputer\n",
    "from sklearn.pipeline import Pipeline\n"
   ]
  },
  {
   "cell_type": "code",
   "execution_count": null,
   "metadata": {},
   "outputs": [],
   "source": [
    "def my_linear_regression(X_train,y_train):\n",
    "    \n",
    "    steps = [(\"imp_mean\", SimpleImputer()), # cleaning the data - replace the missing data with average\n",
    "            (\"scale\", StandardScaler()),  #standardizing the data \n",
    "            (\"linear\", LinearRegression()) ] # linear model - ML \n",
    "\n",
    "    pipeline = Pipeline(steps)\n",
    "\n",
    "    model = pipeline.fit(X_train, y_train)\n",
    " \n",
    "\n",
    "    linear_regressor = pipeline.named_steps['linear']\n",
    "\n",
    "    return model, linear_regressor.intercept_, linear_regressor.coef_"
   ]
  },
  {
   "cell_type": "code",
   "execution_count": null,
   "metadata": {},
   "outputs": [],
   "source": [
    "import matplotlib.pyplot as plt\n",
    "from sklearn.metrics import mean_absolute_error, mean_squared_error, r2_score\n",
    "\n",
    "df_slr = {}\n",
    "for input in df.columns:\n",
    "    X = df[[input]].values\n",
    "    X_train, X_test, y_train, y_test = train_test_split(X,y, test_size = 0.4, random_state = 42)\n",
    "    model, a, b = my_linear_regression(X_train,y_train) \n",
    "    y_pred = model.predict(X_train)    \n",
    "    mae_tr = mean_absolute_error(y_train, y_pred)\n",
    "    r2_tr = r2_score(y_train,y_pred)\n",
    "    y_pred = model.predict(X_train)    \n",
    "    mae = mean_absolute_error(y_train, y_pred)    \n",
    "    r2 = r2_score(y_train,y_pred)\n",
    "   # plt.scatter(X_train, y_train, label='Data Points')\n",
    "   # plt.plot(X_train, y_pred, color='red', label='Linear Regression')\n",
    "   # plt.show()   \n",
    "    df_slr[input] = [b[0], mae_tr, mae,  r2_tr, r2]\n",
    "\n",
    "df_simple = pd.DataFrame.from_dict(df_slr, orient ='index')\n",
    "df_simple.columns = ['coef', 'mae_tr', 'mae_test', 'r2_tr', 'r2_test']\n",
    "\n",
    "df_simple"
   ]
  },
  {
   "cell_type": "code",
   "execution_count": null,
   "metadata": {},
   "outputs": [],
   "source": [
    "X = df.values\n",
    "X_train, X_test, y_train, y_test = train_test_split(X,y, test_size = 0.4, random_state = 42)\n",
    "model, a, b = my_linear_regression(X_train,y_train) \n",
    "y_pred = model.predict(X_train) \n",
    "    \n",
    "mae = mean_absolute_error(y_train, y_pred)\n",
    "mse = mean_squared_error(y_train, y_pred)\n",
    "r2 = r2_score(y_train,y_pred)\n",
    "print('training')\n",
    "print('mae:', round(mae), 'mse:', round(mse), 'r2 score:', round(r2, 2))\n",
    "\n",
    "y_pred = model.predict(X_test)\n",
    "mae = mean_absolute_error(y_test, y_pred)\n",
    "mse = mean_squared_error(y_test, y_pred)\n",
    "r2 = r2_score(y_test,y_pred)\n",
    "print('testing')\n",
    "print('mae:', round(mae), 'mse:', round(mse), 'r2 score:', round(r2, 2))"
   ]
  },
  {
   "cell_type": "code",
   "execution_count": null,
   "metadata": {},
   "outputs": [],
   "source": []
  }
 ],
 "metadata": {
  "kernelspec": {
   "display_name": "base",
   "language": "python",
   "name": "python3"
  },
  "language_info": {
   "codemirror_mode": {
    "name": "ipython",
    "version": 3
   },
   "file_extension": ".py",
   "mimetype": "text/x-python",
   "name": "python",
   "nbconvert_exporter": "python",
   "pygments_lexer": "ipython3",
   "version": "3.9.13"
  },
  "orig_nbformat": 4
 },
 "nbformat": 4,
 "nbformat_minor": 2
}
