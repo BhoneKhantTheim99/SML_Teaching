{
  "cells": [
    {
      "cell_type": "markdown",
      "metadata": {
        "id": "vD5NtsHxJADE"
      },
      "source": [
        "This Python notebook aims to familiarize students with working on Jupyter Notebooks.\n",
        "\n",
        "Please create a new cell and provide your information, including your name and student ID.\n",
        "\n",
        "Next, choose one of the following questions to answer:\n",
        "\n",
        "1) Why do you think some teachers can answer most of your questions, while others cannot?\n",
        "\n",
        "2) When you ask questions like why you should study data analysis or which course is better, why do some teachers give general answers?\n",
        "\n",
        "3) Choose any topic related to social change, machine learning, or Python programming, and provide your insights or reflections on it.\n",
        "\n",
        "Feel free to explore and engage with the notebook as you build your understanding and expertise in Python and data analysis. Happy learning!\n",
        "\n"
      ]
    },
    {
      "cell_type": "markdown",
      "source": [
        "Myo Thida, ID : 897564132"
      ],
      "metadata": {
        "id": "CwmzG12WJHZt"
      }
    }
  ],
  "metadata": {
    "language_info": {
      "name": "python"
    },
    "orig_nbformat": 4,
    "colab": {
      "provenance": []
    }
  },
  "nbformat": 4,
  "nbformat_minor": 0
}