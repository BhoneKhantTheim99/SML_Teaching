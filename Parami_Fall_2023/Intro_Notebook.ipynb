{
 "cells": [
  {
   "cell_type": "markdown",
   "metadata": {},
   "source": [
    "This Python notebook aims to familiarize students with working on Jupyter Notebooks.\n",
    "\n",
    "Please create a new cell and provide your information, including your group names and student IDs of the group members.\n",
    "\n",
    "Next, choose one of the following questions to answer:\n",
    "\n",
    "1) Why do you think some teachers can answer most of your questions, while others cannot?\n",
    "\n",
    "2) When you ask questions like why you should study data analysis or which course is better, why do some teachers give general answers?\n",
    "\n",
    "3) Choose any topic related to social change, machine learning, or Python programming, and provide your insights or reflections on it.\n",
    "\n",
    "Feel free to explore and engage with the notebook as you build your understanding and expertise in Python and data analysis. Happy learning!\n",
    "\n"
   ]
  }
 ],
 "metadata": {
  "language_info": {
   "name": "python"
  },
  "orig_nbformat": 4
 },
 "nbformat": 4,
 "nbformat_minor": 2
}
