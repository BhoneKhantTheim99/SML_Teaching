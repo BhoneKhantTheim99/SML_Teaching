{
  "cells": [
    {
      "cell_type": "code",
      "execution_count": null,
      "metadata": {
        "id": "7KSSlWKYlHPW"
      },
      "outputs": [],
      "source": [
        "import pandas as pd\n",
        "import pickle\n",
        "\n",
        "df = pd.read_csv('CNX_HousePrice.csv')\n",
        "df = df[df['Location'] == 'nimman']\n",
        "\n",
        "y = df['price']\n",
        "X = df.drop(['price', 'per_sqm_price', 'Location'], axis = 'columns')"
      ]
    },
    {
      "cell_type": "code",
      "execution_count": null,
      "metadata": {
        "id": "1VO_zgyxOemG"
      },
      "outputs": [],
      "source": [
        "from sklearn.model_selection import train_test_split\n",
        "\n",
        "X_train, X_test, y_train, y_test = train_test_split(X,y, test_size = 0.3, random_state = 42)"
      ]
    },
    {
      "cell_type": "code",
      "execution_count": null,
      "metadata": {
        "id": "3oJp8VqYOemF"
      },
      "outputs": [],
      "source": [
        "from sklearn.preprocessing import StandardScaler, PolynomialFeatures\n",
        "from sklearn.impute import SimpleImputer\n",
        "\n",
        "from sklearn.pipeline import Pipeline\n",
        "from sklearn.linear_model import LinearRegression, Ridge, Lasso\n",
        "from sklearn.tree import DecisionTreeRegressor\n",
        "from sklearn.ensemble import RandomForestRegressor\n",
        "from sklearn.metrics import mean_absolute_error, mean_squared_error, r2_score\n",
        "\n",
        "regressors = {\n",
        "    'Linear Regression': LinearRegression(),\n",
        "    'Ridge Regression': Ridge(),\n",
        "    'Lasso Regression': Lasso(),\n",
        "    'Random Forest Regression': RandomForestRegressor()\n",
        "}\n",
        "\n",
        "pipelines = {}\n",
        "for name, regressor in regressors.items():\n",
        "    pipeline = Pipeline([\n",
        "        ('scaler', StandardScaler()),\n",
        "        ('transform', PolynomialFeatures(degree=5)),\n",
        "        ('regressor', regressor)\n",
        "    ])\n",
        "    pipelines[name] = pipeline\n",
        "\n",
        "results = {}\n",
        "for name, pipeline in pipelines.items():\n",
        "    model = pipeline.fit(X_train, y_train)\n",
        "    y_pred = model.predict(X_train)\n",
        "    mae = mean_absolute_error(y_train, y_pred)\n",
        "\n",
        "\n",
        "    r2 = r2_score(y_train,y_pred)\n",
        "    \n",
        "    y_predt = model.predict(X_test)\n",
        "    maet = mean_absolute_error(y_test, y_predt)\n",
        "\n",
        "\n",
        "    r2t = r2_score(y_test,y_predt)\n",
        "    results[name] = [mae, r2, maet, r2t] \n",
        "    \n",
        "\n",
        "df_result = pd.DataFrame(results)\n",
        "df_result = df_result.round(2)\n",
        "df_result.index = ['mae_train', 'r2_train', 'mae_test', 'r2_test']\n",
        "df_result"
      ]
    },
    {
      "cell_type": "code",
      "execution_count": null,
      "metadata": {},
      "outputs": [],
      "source": [
        "steps = [(\"imp_mean\", SimpleImputer()), (\"scale\", StandardScaler()), \n",
        "         (\"polytransform\", PolynomialFeatures(degree =3)), (\"regressor\", RandomForestRegressor()) ]\n",
        "\n",
        "pipeline = Pipeline(steps)\n",
        "\n",
        "model = pipeline.fit(X_train, y_train)\n",
        "\n",
        "\n",
        "with open('CNX_BestModel.pkl', 'wb') as model_file:\n",
        "   pickle.dump(model, model_file)"
      ]
    }
  ],
  "metadata": {
    "colab": {
      "provenance": []
    },
    "kernelspec": {
      "display_name": "base",
      "language": "python",
      "name": "python3"
    },
    "language_info": {
      "codemirror_mode": {
        "name": "ipython",
        "version": 3
      },
      "file_extension": ".py",
      "mimetype": "text/x-python",
      "name": "python",
      "nbconvert_exporter": "python",
      "pygments_lexer": "ipython3",
      "version": "3.9.13"
    },
    "orig_nbformat": 4
  },
  "nbformat": 4,
  "nbformat_minor": 0
}
