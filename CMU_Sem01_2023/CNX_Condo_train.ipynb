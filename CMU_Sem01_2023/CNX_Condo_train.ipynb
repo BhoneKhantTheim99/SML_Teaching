{
  "cells": [
    {
      "cell_type": "code",
      "execution_count": 61,
      "metadata": {
        "id": "7KSSlWKYlHPW"
      },
      "outputs": [],
      "source": [
        "import pandas as pd\n",
        "import pickle\n",
        "\n",
        "df = pd.read_csv('CNX_HousePrice.csv')\n",
        "df = df[df['Location'] == 'nimman']\n",
        "\n",
        "y = df['price']\n",
        "X = df.drop(['price', 'per_sqm_price', 'Location'], axis = 'columns')"
      ]
    },
    {
      "cell_type": "code",
      "execution_count": 62,
      "metadata": {
        "id": "1VO_zgyxOemG"
      },
      "outputs": [],
      "source": [
        "from sklearn.model_selection import train_test_split\n",
        "\n",
        "X_train, X_test, y_train, y_test = train_test_split(X,y, test_size = 0.3)"
      ]
    },
    {
      "cell_type": "code",
      "execution_count": 63,
      "metadata": {
        "id": "3oJp8VqYOemF"
      },
      "outputs": [
        {
          "name": "stderr",
          "output_type": "stream",
          "text": [
            "c:\\Users\\User\\anaconda3\\lib\\site-packages\\sklearn\\linear_model\\_coordinate_descent.py:647: ConvergenceWarning: Objective did not converge. You might want to increase the number of iterations, check the scale of the features or consider increasing regularisation. Duality gap: 1.118e+13, tolerance: 5.319e+09\n",
            "  model = cd_fast.enet_coordinate_descent(\n"
          ]
        },
        {
          "data": {
            "text/html": [
              "<div>\n",
              "<style scoped>\n",
              "    .dataframe tbody tr th:only-of-type {\n",
              "        vertical-align: middle;\n",
              "    }\n",
              "\n",
              "    .dataframe tbody tr th {\n",
              "        vertical-align: top;\n",
              "    }\n",
              "\n",
              "    .dataframe thead th {\n",
              "        text-align: right;\n",
              "    }\n",
              "</style>\n",
              "<table border=\"1\" class=\"dataframe\">\n",
              "  <thead>\n",
              "    <tr style=\"text-align: right;\">\n",
              "      <th></th>\n",
              "      <th>Linear Regression</th>\n",
              "      <th>Ridge Regression</th>\n",
              "      <th>Lasso Regression</th>\n",
              "      <th>Random Forest Regression</th>\n",
              "    </tr>\n",
              "  </thead>\n",
              "  <tbody>\n",
              "    <tr>\n",
              "      <th>mae_train</th>\n",
              "      <td>541968.29</td>\n",
              "      <td>592007.22</td>\n",
              "      <td>543213.86</td>\n",
              "      <td>409119.51</td>\n",
              "    </tr>\n",
              "    <tr>\n",
              "      <th>r2_train</th>\n",
              "      <td>0.58</td>\n",
              "      <td>0.55</td>\n",
              "      <td>0.58</td>\n",
              "      <td>0.78</td>\n",
              "    </tr>\n",
              "    <tr>\n",
              "      <th>mae_test</th>\n",
              "      <td>1121180.19</td>\n",
              "      <td>857124.04</td>\n",
              "      <td>1112320.61</td>\n",
              "      <td>739449.05</td>\n",
              "    </tr>\n",
              "    <tr>\n",
              "      <th>r2_test</th>\n",
              "      <td>-0.13</td>\n",
              "      <td>0.30</td>\n",
              "      <td>-0.12</td>\n",
              "      <td>0.39</td>\n",
              "    </tr>\n",
              "  </tbody>\n",
              "</table>\n",
              "</div>"
            ],
            "text/plain": [
              "           Linear Regression  Ridge Regression  Lasso Regression  \\\n",
              "mae_train          541968.29         592007.22         543213.86   \n",
              "r2_train                0.58              0.55              0.58   \n",
              "mae_test          1121180.19         857124.04        1112320.61   \n",
              "r2_test                -0.13              0.30             -0.12   \n",
              "\n",
              "           Random Forest Regression  \n",
              "mae_train                 409119.51  \n",
              "r2_train                       0.78  \n",
              "mae_test                  739449.05  \n",
              "r2_test                        0.39  "
            ]
          },
          "execution_count": 63,
          "metadata": {},
          "output_type": "execute_result"
        }
      ],
      "source": [
        "from sklearn.preprocessing import StandardScaler, PolynomialFeatures\n",
        "from sklearn.impute import SimpleImputer\n",
        "\n",
        "from sklearn.pipeline import Pipeline\n",
        "from sklearn.linear_model import LinearRegression, Ridge, Lasso\n",
        "from sklearn.tree import DecisionTreeRegressor\n",
        "from sklearn.ensemble import RandomForestRegressor\n",
        "from sklearn.metrics import mean_absolute_error, mean_squared_error, r2_score\n",
        "\n",
        "regressors = {\n",
        "    'Linear Regression': LinearRegression(),\n",
        "    'Ridge Regression': Ridge(),\n",
        "    'Lasso Regression': Lasso(),\n",
        "    'Random Forest Regression': RandomForestRegressor()\n",
        "}\n",
        "\n",
        "pipelines = {}\n",
        "for name, regressor in regressors.items():\n",
        "    pipeline = Pipeline([\n",
        "        ('scaler', StandardScaler()),\n",
        "        ('transform', PolynomialFeatures(degree=3)),\n",
        "        ('regressor', regressor)\n",
        "    ])\n",
        "    pipelines[name] = pipeline\n",
        "\n",
        "results = {}\n",
        "for name, pipeline in pipelines.items():\n",
        "    model = pipeline.fit(X_train, y_train)\n",
        "    y_pred = model.predict(X_train)\n",
        "    mae = mean_absolute_error(y_train, y_pred)\n",
        "\n",
        "\n",
        "    r2 = r2_score(y_train,y_pred)\n",
        "    \n",
        "    y_predt = model.predict(X_test)\n",
        "    maet = mean_absolute_error(y_test, y_predt)\n",
        "\n",
        "\n",
        "    r2t = r2_score(y_test,y_predt)\n",
        "    results[name] = [mae, r2, maet, r2t] \n",
        "    \n",
        "\n",
        "df_result = pd.DataFrame(results)\n",
        "df_result = df_result.round(2)\n",
        "df_result.index = ['mae_train', 'r2_train', 'mae_test', 'r2_test']\n",
        "df_result"
      ]
    },
    {
      "cell_type": "code",
      "execution_count": 65,
      "metadata": {},
      "outputs": [],
      "source": [
        "steps = [(\"imp_mean\", SimpleImputer()), (\"scale\", StandardScaler()), \n",
        "         (\"polytransform\", PolynomialFeatures(degree =3)), (\"regressor\", RandomForestRegressor()) ]\n",
        "\n",
        "pipeline = Pipeline(steps)\n",
        "\n",
        "model = pipeline.fit(X_train, y_train)\n",
        "\n",
        "\n",
        "with open('CNX_model.pkl', 'wb') as model_file:\n",
        "   pickle.dump(model, model_file)"
      ]
    },
    {
      "cell_type": "code",
      "execution_count": null,
      "metadata": {},
      "outputs": [],
      "source": []
    }
  ],
  "metadata": {
    "colab": {
      "provenance": []
    },
    "kernelspec": {
      "display_name": "base",
      "language": "python",
      "name": "python3"
    },
    "language_info": {
      "codemirror_mode": {
        "name": "ipython",
        "version": 3
      },
      "file_extension": ".py",
      "mimetype": "text/x-python",
      "name": "python",
      "nbconvert_exporter": "python",
      "pygments_lexer": "ipython3",
      "version": "3.9.13"
    },
    "orig_nbformat": 4
  },
  "nbformat": 4,
  "nbformat_minor": 0
}
