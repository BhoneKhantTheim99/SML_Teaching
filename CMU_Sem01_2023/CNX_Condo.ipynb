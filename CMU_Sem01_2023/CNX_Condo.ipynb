{
 "cells": [
  {
   "cell_type": "markdown",
   "metadata": {},
   "source": [
    "You are employed at a real estate company in Chiang Mai. Recently, a junior machine learning engineer in your team has successfully developed a housing price prediction model. The model utilizes various features, including the area, number of bedrooms, and more, to make accurate predictions.\n",
    "\n",
    "According to the engineer's assessment, the model has achieved an R-squared score of 0.62, indicating a reasonable level of accuracy. Additionally, the mean average error of the predictions is around 500,000 Baht. This means that, on average, the model's predictions deviate by approximately 500,000 Baht from the actual housing prices.\n",
    "\n",
    "As a real estate professional, you recognize the potential value of such a model for the company and its clients. However, further evaluation and testing may be necessary before fully incorporating it into the business operations. \n",
    "\n",
    "Follow the instructions to evaluate his model. "
   ]
  },
  {
   "cell_type": "code",
   "execution_count": 3,
   "metadata": {},
   "outputs": [],
   "source": [
    "# import the required libraries\n",
    "\n",
    "# Enter your code here. "
   ]
  },
  {
   "cell_type": "code",
   "execution_count": 4,
   "metadata": {},
   "outputs": [],
   "source": [
    "# upload the ml models saved in the data folder. \n",
    "\n",
    "# Enter your code here. "
   ]
  },
  {
   "cell_type": "code",
   "execution_count": 5,
   "metadata": {},
   "outputs": [],
   "source": [
    "# import the data saved in the testing.csv. Check the number of records and clean the data if necessary. \n",
    "\n",
    "\n",
    "# Enter your code here. "
   ]
  },
  {
   "cell_type": "code",
   "execution_count": 6,
   "metadata": {},
   "outputs": [],
   "source": [
    "# Evaluate his model and print the mean squared error and r2 score. \n",
    "\n",
    "# Enter your code here"
   ]
  },
  {
   "cell_type": "code",
   "execution_count": 7,
   "metadata": {},
   "outputs": [],
   "source": [
    "# Write down your observation. Do you think if his model is ready to incorporate into the business operations."
   ]
  }
 ],
 "metadata": {
  "kernelspec": {
   "display_name": "base",
   "language": "python",
   "name": "python3"
  },
  "language_info": {
   "codemirror_mode": {
    "name": "ipython",
    "version": 3
   },
   "file_extension": ".py",
   "mimetype": "text/x-python",
   "name": "python",
   "nbconvert_exporter": "python",
   "pygments_lexer": "ipython3",
   "version": "3.9.13"
  },
  "orig_nbformat": 4
 },
 "nbformat": 4,
 "nbformat_minor": 2
}
