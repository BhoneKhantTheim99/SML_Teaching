{
  "cells": [
    {
      "cell_type": "markdown",
      "metadata": {
        "id": "ZHHATDjqOemD"
      },
      "source": [
        "You are employed at a real estate company in Chiang Mai. Recently, a junior machine learning engineer in your team has successfully developed a housing price prediction model. The model utilizes various features, including the area, number of bedrooms, and more, to make accurate predictions.\n",
        "\n",
        "According to the engineer's assessment, the model has achieved an R-squared score of 0.62, indicating a reasonable level of accuracy. Additionally, the mean average error of the predictions is around 500,000 Baht. This means that, on average, the model's predictions deviate by approximately 500,000 Baht from the actual housing prices.\n",
        "\n",
        "As a real estate professional, you recognize the potential value of such a model for the company and its clients. However, further evaluation and testing may be necessary before fully incorporating it into the business operations.\n",
        "\n",
        "Follow the instructions to evaluate his model."
      ]
    },
    {
      "cell_type": "code",
      "execution_count": 85,
      "metadata": {
        "id": "bW3zNKIBOemF"
      },
      "outputs": [],
      "source": [
        "import pandas as pd\n",
        "import joblib\n",
        "\n",
        "\n",
        "\n",
        "\n"
      ]
    },
    {
      "cell_type": "code",
      "execution_count": 86,
      "metadata": {
        "id": "3oJp8VqYOemF",
        "outputId": "1b8ef1b7-90bc-4f71-f8d8-fb3efce1b293",
        "colab": {
          "base_uri": "https://localhost:8080/"
        }
      },
      "outputs": [
        {
          "output_type": "stream",
          "name": "stderr",
          "text": [
            "/usr/local/lib/python3.10/dist-packages/sklearn/base.py:318: UserWarning: Trying to unpickle estimator StandardScaler from version 1.3.0 when using version 1.2.2. This might lead to breaking code or invalid results. Use at your own risk. For more info please refer to:\n",
            "https://scikit-learn.org/stable/model_persistence.html#security-maintainability-limitations\n",
            "  warnings.warn(\n",
            "/usr/local/lib/python3.10/dist-packages/sklearn/base.py:318: UserWarning: Trying to unpickle estimator PolynomialFeatures from version 1.3.0 when using version 1.2.2. This might lead to breaking code or invalid results. Use at your own risk. For more info please refer to:\n",
            "https://scikit-learn.org/stable/model_persistence.html#security-maintainability-limitations\n",
            "  warnings.warn(\n",
            "/usr/local/lib/python3.10/dist-packages/sklearn/base.py:318: UserWarning: Trying to unpickle estimator LinearRegression from version 1.3.0 when using version 1.2.2. This might lead to breaking code or invalid results. Use at your own risk. For more info please refer to:\n",
            "https://scikit-learn.org/stable/model_persistence.html#security-maintainability-limitations\n",
            "  warnings.warn(\n"
          ]
        }
      ],
      "source": [
        "loaded_scaler_transformer = joblib.load('model2.joblib')\n",
        "loaded_poly_transformer = joblib.load('model3.joblib')\n",
        "loaded_model = joblib.load('model1.joblib')\n",
        "\n",
        "\n",
        "\n"
      ]
    },
    {
      "cell_type": "code",
      "execution_count": 87,
      "metadata": {
        "id": "1VO_zgyxOemG"
      },
      "outputs": [],
      "source": [
        "df = pd.read_csv('testing.csv')\n",
        "\n",
        "df.columns = ['bedrooms' , 'Area' ,'bathroom','place' ,'price']\n",
        "\n",
        "Xtest = df[['bedrooms' ,'Area' ,'bathroom']]\n",
        "ytest = df[['price']]\n",
        "\n",
        "X_scaler_loaded = loaded_scaler_transformer.transform(Xtest)\n",
        "X_poly_loaded = loaded_poly_transformer.transform(X_scaler_loaded)\n",
        "X_poly_loaded\n",
        "\n",
        "ytest_pred = loaded_model.predict(X_poly_loaded)"
      ]
    },
    {
      "cell_type": "code",
      "execution_count": 88,
      "metadata": {
        "id": "gu4pc6dROemG",
        "outputId": "27177a07-8ed3-4f51-b339-7454fc53073e",
        "colab": {
          "base_uri": "https://localhost:8080/"
        }
      },
      "outputs": [
        {
          "output_type": "stream",
          "name": "stdout",
          "text": [
            "2.0486921493455605e+51 3.269918866272389e+24 -1.4018833959828104e+39\n"
          ]
        }
      ],
      "source": [
        "from sklearn.metrics import mean_absolute_error\n",
        "from sklearn.metrics import mean_squared_error\n",
        "from sklearn.metrics import r2_score\n",
        "\n",
        "mse = mean_squared_error(ytest,ytest_pred)\n",
        "mae = mean_absolute_error(ytest,ytest_pred)\n",
        "r2 = r2_score(ytest,ytest_pred)\n",
        "\n",
        "print (mse,mae,r2)"
      ]
    },
    {
      "cell_type": "code",
      "execution_count": 89,
      "metadata": {
        "id": "CjLunGiLOemG"
      },
      "outputs": [],
      "source": [
        "# Write down your observation. Do you think if his model is ready to incorporate into the business operations."
      ]
    }
  ],
  "metadata": {
    "kernelspec": {
      "display_name": "base",
      "language": "python",
      "name": "python3"
    },
    "language_info": {
      "codemirror_mode": {
        "name": "ipython",
        "version": 3
      },
      "file_extension": ".py",
      "mimetype": "text/x-python",
      "name": "python",
      "nbconvert_exporter": "python",
      "pygments_lexer": "ipython3",
      "version": "3.9.13"
    },
    "orig_nbformat": 4,
    "colab": {
      "provenance": []
    }
  },
  "nbformat": 4,
  "nbformat_minor": 0
}